{
 "cells": [
  {
   "cell_type": "code",
   "execution_count": 18,
   "metadata": {},
   "outputs": [
    {
     "name": "stdout",
     "output_type": "stream",
     "text": [
      "¡Advertencia, tener cuidado con asteroide!\n"
     ]
    }
   ],
   "source": [
    "asteroide = 49\n",
    "if asteroide > 25:\n",
    "    print('¡Advertencia, tener cuidado con asteroide!')\n",
    "else:\n",
    "    print('¡Todo bien!')"
   ]
  },
  {
   "cell_type": "code",
   "execution_count": 19,
   "metadata": {},
   "outputs": [
    {
     "name": "stdout",
     "output_type": "stream",
     "text": [
      "Todo seguro!\n"
     ]
    }
   ],
   "source": [
    "asteroide = 19\n",
    "if asteroide > 20:\n",
    "    print('Esta pasando un asteroide, todo bien!')\n",
    "elif asteroide == 20:\n",
    "    print('Esta pasando un asteroide, todo bien!')\n",
    "else:\n",
    "    print('Todo seguro!')"
   ]
  },
  {
   "cell_type": "code",
   "execution_count": 20,
   "metadata": {},
   "outputs": [
    {
     "name": "stdout",
     "output_type": "stream",
     "text": [
      "Un bonito asteroide se puede ver!\n"
     ]
    }
   ],
   "source": [
    "velocidad_asteroide = 25\n",
    "tamano_asteroide = 40\n",
    "if velocidad_asteroide > 25 and tamano_asteroide > 25:\n",
    "    print('¡Cuidado, un asteroide muy peligroso viene!')\n",
    "elif velocidad_asteroide >= 20:\n",
    "    print('Un bonito asteroide se puede ver!')\n",
    "elif tamano_asteroide < 25:\n",
    "    print('Todo bien :)')\n",
    "else:\n",
    "    print('Todo bien :)')"
   ]
  }
 ],
 "metadata": {
  "interpreter": {
   "hash": "0dffd210a3d9c3951f87058c7a2fb5252e22d018383d26d2e8cddd01cd98e6a5"
  },
  "kernelspec": {
   "display_name": "Python 3.9.10 64-bit (windows store)",
   "language": "python",
   "name": "python3"
  },
  "language_info": {
   "codemirror_mode": {
    "name": "ipython",
    "version": 3
   },
   "file_extension": ".py",
   "mimetype": "text/x-python",
   "name": "python",
   "nbconvert_exporter": "python",
   "pygments_lexer": "ipython3",
   "version": "3.9.10"
  },
  "orig_nbformat": 4
 },
 "nbformat": 4,
 "nbformat_minor": 2
}
