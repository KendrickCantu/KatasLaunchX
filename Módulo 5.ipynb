{
 "cells": [
  {
   "cell_type": "code",
   "execution_count": 1,
   "metadata": {},
   "outputs": [],
   "source": [
    "# Crear variables para almacenar las dos distancias\n",
    "# ¡Asegúrate de quitar las comas!\n",
    "\n",
    "first_planet = 149597870\n",
    "second_planet = 778547200"
   ]
  },
  {
   "cell_type": "code",
   "execution_count": 2,
   "metadata": {},
   "outputs": [
    {
     "name": "stdout",
     "output_type": "stream",
     "text": [
      "628949330\n",
      "390577533.93\n"
     ]
    }
   ],
   "source": [
    "# Calcular la distancia entre planetas\n",
    "\n",
    "distance_km = second_planet - first_planet\n",
    "print(distance_km)\n",
    "\n",
    "distance_mi = distance_km * 0.621\n",
    "print(distance_mi)"
   ]
  },
  {
   "cell_type": "code",
   "execution_count": 3,
   "metadata": {},
   "outputs": [],
   "source": [
    "# Almacenar las entradas del usuario\n",
    "first_planet = input('Introduzca la distancia del sol para el primer planeta en KM')\n",
    "second_planet = input('Introduzca la distancia desde el sol para el segundo planeta en KM')"
   ]
  },
  {
   "cell_type": "code",
   "execution_count": 4,
   "metadata": {},
   "outputs": [],
   "source": [
    "# Convierte las cadenas de ambos planetas a números enteros\n",
    "first_planet = int(first_planet)\n",
    "second_planet = int(second_planet)"
   ]
  },
  {
   "cell_type": "code",
   "execution_count": 5,
   "metadata": {},
   "outputs": [
    {
     "name": "stdout",
     "output_type": "stream",
     "text": [
      "-10\n",
      "6.21\n"
     ]
    }
   ],
   "source": [
    "# Realizar el cálculo y determinar el valor absoluto\n",
    "distance_km = second_planet - first_planet\n",
    "print(distance_km)\n",
    "\n",
    "# Convertir de KM a Millas\n",
    "distance_mi = distance_km * 0.621\n",
    "print(abs(distance_mi))"
   ]
  }
 ],
 "metadata": {
  "interpreter": {
   "hash": "0dffd210a3d9c3951f87058c7a2fb5252e22d018383d26d2e8cddd01cd98e6a5"
  },
  "kernelspec": {
   "display_name": "Python 3.9.10 64-bit (windows store)",
   "language": "python",
   "name": "python3"
  },
  "language_info": {
   "codemirror_mode": {
    "name": "ipython",
    "version": 3
   },
   "file_extension": ".py",
   "mimetype": "text/x-python",
   "name": "python",
   "nbconvert_exporter": "python",
   "pygments_lexer": "ipython3",
   "version": "3.9.10"
  },
  "orig_nbformat": 4
 },
 "nbformat": 4,
 "nbformat_minor": 2
}
